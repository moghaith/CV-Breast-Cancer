{
 "cells": [
  {
   "cell_type": "markdown",
   "id": "fac6a065",
   "metadata": {},
   "source": [
    "### First We start with the imports"
   ]
  },
  {
   "cell_type": "code",
   "execution_count": null,
   "id": "3165e580",
   "metadata": {},
   "outputs": [],
   "source": [
    "import numpy as np\n",
    "import pandas as pd\n",
    "import seaborn as sns\n",
    "import matplotlib\n",
    "import matplotlib.pyplot as plt\n",
    "#we will use pytorch for the neural network here\n",
    "import torch\n",
    "import torch.nn as nn\n",
    "import torch.optim as optim\n",
    "from torchvision import models, datasets, transforms\n",
    "from torch.utils.data import DataLoader\n",
    "from sklearn.metrics import classification_report, confusion_matrix\n",
    "device = torch.device(\"cuda\" if torch.cuda.is_available() else \"cpu\")\n",
    "\n"
   ]
  },
  {
   "cell_type": "markdown",
   "id": "8dc63e22",
   "metadata": {},
   "source": [
    "### Image Preprocessing"
   ]
  },
  {
   "cell_type": "code",
   "execution_count": null,
   "id": "e12aec52",
   "metadata": {},
   "outputs": [],
   "source": [
    "#now will process the image to fit the model specs\n",
    "transform = transforms.Compose([\n",
    "    transforms.Resize((224, 224)), transforms.ToTensor(),transforms.Normalize(mean=[0.485, 0.456, 0.406], std=[0.229, 0.224, 0.225]) ])\n",
    "\n",
    "#load the data \n",
    "#I'll leave it as a placeholder for now until Ahmed provides the data"
   ]
  },
  {
   "cell_type": "code",
   "execution_count": null,
   "id": "47df1d80",
   "metadata": {},
   "outputs": [],
   "source": [
    "model = models.resnet50(pretrained=True)\n"
   ]
  }
 ],
 "metadata": {
  "kernelspec": {
   "display_name": "Python 3",
   "language": "python",
   "name": "python3"
  },
  "language_info": {
   "name": "python",
   "version": "3.11.1"
  }
 },
 "nbformat": 4,
 "nbformat_minor": 5
}
